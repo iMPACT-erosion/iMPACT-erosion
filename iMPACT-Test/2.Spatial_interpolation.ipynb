{
 "cells": [
  {
   "cell_type": "markdown",
   "id": "d1c81574",
   "metadata": {},
   "source": [
    "# Spatial Interpolation of Measured Soil Loss Rates\n",
    "\n",
    "This Jupyter Notebook demonstrates how to spatially interpolate soil loss rates measured at discrete locations across a catchment.  The soil loss rates are derived from field measurements, such as those obtained using fallout radionuclide techniques. The resulting interpolated map of soil loss will be a valuable tool for assessing soil erosion risk and evaluating the performance of soil erosion models.  This process allows us to create a continuous representation of soil loss across the entire catchment, even in areas where direct measurements are not available.\n",
    "\n",
    "<left><img src=\"images/soil_sampling.png\" width=\"300px\">\n",
    "\n",
    "## **Steps**\n",
    "\n",
    "### 0. Import the necessary libraries\n",
    "We begin by importing the Python libraries required for data manipulation, geospatial operations, visualization, and interpolation."
   ]
  },
  {
   "cell_type": "code",
   "execution_count": 1,
   "id": "23376715",
   "metadata": {},
   "outputs": [],
   "source": [
    "# Import necessary libraries\n",
    "import numpy as np  # For numerical operations and array handling\n",
    "import pandas as pd  # For handling tabular data (e.g., soil loss estimates)\n",
    "import rasterio  # For reading and writing raster (geospatial) data\n",
    "import matplotlib.pyplot as plt  # For plotting and visualizations\n",
    "from ipywidgets import interactive  # For creating interactive widgets\n",
    "from scipy import interpolate  # For spatial interpolation methods\n",
    "from tools.file_IO import open_raster, save_as_raster"
   ]
  },
  {
   "cell_type": "markdown",
   "id": "a2382c0e",
   "metadata": {},
   "source": [
    "### 1. Load the DEM Raster  \n",
    "A Digital Elevation Model (DEM) is essential for understanding the topography of the catchment.  It provides the elevation data needed for context in our soil loss interpolation. When you load a raster file (like a DEM) using Rasterio in Python, you get both the raw elevation data *and* important metadata.\n",
    "\n",
    "a. **DEM (Digital Elevation Model)**\n",
    "\n",
    "This is the core data – a 2D array (or sometimes a multi-dimensional array for multi-band rasters) of elevation values. Each cell in the array corresponds to a location on the ground, and the value in that cell represents the elevation at that point.   "
   ]
  },
  {
   "cell_type": "code",
   "execution_count": 2,
   "id": "dad27241",
   "metadata": {},
   "outputs": [
    {
     "data": {
      "text/plain": [
       "<matplotlib.colorbar.Colorbar at 0x26f110aacd0>"
      ]
     },
     "execution_count": 2,
     "metadata": {},
     "output_type": "execute_result"
    },
    {
     "data": {
      "image/png": "[encoded data removed]",
      "text/plain": [
       "<Figure size 720x360 with 2 Axes>"
      ]
     },
     "metadata": {
      "needs_background": "light"
     },
     "output_type": "display_data"
    }
   ],
   "source": [
    "# Open the Digital Elevation Model (DEM) raster file\n",
    "raster = rasterio.open('inputs/catchment_dem.tif')\n",
    "\n",
    "# Read the first band of the DEM (assuming it's a single-band raster)\n",
    "dem = raster.read(1)  # Extracts a 2D array representing elevation values\n",
    "\n",
    "# Get the number of rows and columns in the DEM\n",
    "n_rows, n_cols = dem.shape\n",
    "\n",
    "# Plot DEM\n",
    "plt.figure(figsize=(10, 5))\n",
    "plt.imshow(dem, cmap='terrain', origin='upper') # 'terrain' colormap is suitable for visualizing elevation.\n",
    "plt.colorbar(label='Elevation (m)')"
   ]
  },
  {
   "cell_type": "markdown",
   "id": "b40fa0c6",
   "metadata": {},
   "source": [
    "b. **Metadata**\n",
    "\n",
    "Metadata is descriptive information *about* your DEM.  It's crucial for correctly interpreting and using the data. Key metadata components include:\n",
    "- **Data Type**: The type of data used to store elevation values (e.g., integers, floating-point numbers). This affects precision and storage size.\n",
    "- **NoData Values**: Values used to represent areas where elevation data is missing or invalid.   \n",
    "- **Height and Width**: The dimensions of the DEM grid (Nnumber of rows and columns).\n",
    "- **Coordinate Reference System (CRS)**: Tells you how the DEM is georeferenced (e.g., latitude/longitude, UTM). This is crucial for knowing where your data is located on Earth."
   ]
  },
  {
   "cell_type": "code",
   "execution_count": 3,
   "id": "c74a07e2",
   "metadata": {},
   "outputs": [
    {
     "data": {
      "text/plain": [
       "{'driver': 'GTiff',\n",
       " 'dtype': 'float32',\n",
       " 'nodata': -32767.0,\n",
       " 'width': 286,\n",
       " 'height': 161,\n",
       " 'count': 1,\n",
       " 'crs': CRS.from_epsg(25830),\n",
       " 'transform': Affine(5.0, 0.0, 409412.5,\n",
       "        0.0, -5.0, 4132972.5)}"
      ]
     },
     "execution_count": 3,
     "metadata": {},
     "output_type": "execute_result"
    }
   ],
   "source": [
    "# Print metadata to understand raster properties\n",
    "raster.meta"
   ]
  },
  {
   "cell_type": "markdown",
   "id": "fbaa04aa",
   "metadata": {},
   "source": [
    "- **Transform**\n",
    "\n",
    "The transform (often called an affine transform) is a mathematical function that links the pixel coordinates in your DEM array to real-world coordinates in your chosen Spatial Reference System.\n",
    "It essentially tells you how to go from a pixel in your array to a specific location on the ground (and vice versa).\n",
    "The transform is usually represented as a 3x3 matrix, but Rasterio provides tools to work with it more easily."
   ]
  },
  {
   "cell_type": "code",
   "execution_count": 4,
   "id": "9f09bf4c",
   "metadata": {},
   "outputs": [
    {
     "data": {
      "text/plain": [
       "Affine(5.0, 0.0, 409412.5,\n",
       "       0.0, -5.0, 4132972.5)"
      ]
     },
     "execution_count": 4,
     "metadata": {},
     "output_type": "execute_result"
    }
   ],
   "source": [
    "# Print the affine transformation (links pixel coordinates to real-world coordinates)\n",
    "raster.transform"
   ]
  },
  {
   "cell_type": "markdown",
   "id": "f6cb56a8",
   "metadata": {},
   "source": [
    "**Why are Metadata and Transform Important?** Without metadata and the transform, your DEM is just a grid of numbers. You wouldn't know where those numbers correspond to on the Earth's surface.\n",
    "\n",
    "### 2. Load soil loss estimates data\n",
    "We load the soil loss data from an Excel file. This data should contain the location (coordinates) and the corresponding soil loss rate for each measurement point."
   ]
  },
  {
   "cell_type": "code",
   "execution_count": 5,
   "id": "c0584500",
   "metadata": {},
   "outputs": [
    {
     "data": {
      "text/html": [
       "<div>\n",
       "<style scoped>\n",
       "    .dataframe tbody tr th:only-of-type {\n",
       "        vertical-align: middle;\n",
       "    }\n",
       "\n",
       "    .dataframe tbody tr th {\n",
       "        vertical-align: top;\n",
       "    }\n",
       "\n",
       "    .dataframe thead th {\n",
       "        text-align: right;\n",
       "    }\n",
       "</style>\n",
       "<table border=\"1\" class=\"dataframe\">\n",
       "  <thead>\n",
       "    <tr style=\"text-align: right;\">\n",
       "      <th></th>\n",
       "      <th>X</th>\n",
       "      <th>Y</th>\n",
       "      <th>SL_Pu</th>\n",
       "    </tr>\n",
       "    <tr>\n",
       "      <th>ID</th>\n",
       "      <th></th>\n",
       "      <th></th>\n",
       "      <th></th>\n",
       "    </tr>\n",
       "  </thead>\n",
       "  <tbody>\n",
       "    <tr>\n",
       "      <th>M1-1</th>\n",
       "      <td>410179.490</td>\n",
       "      <td>4132795.830</td>\n",
       "      <td>-7.052360</td>\n",
       "    </tr>\n",
       "    <tr>\n",
       "      <th>M1-2</th>\n",
       "      <td>410101.480</td>\n",
       "      <td>4132795.520</td>\n",
       "      <td>10.955225</td>\n",
       "    </tr>\n",
       "    <tr>\n",
       "      <th>M1-3</th>\n",
       "      <td>409982.560</td>\n",
       "      <td>4132693.420</td>\n",
       "      <td>32.581203</td>\n",
       "    </tr>\n",
       "    <tr>\n",
       "      <th>M1-4</th>\n",
       "      <td>410119.803</td>\n",
       "      <td>4132703.995</td>\n",
       "      <td>-17.549303</td>\n",
       "    </tr>\n",
       "    <tr>\n",
       "      <th>M1-5</th>\n",
       "      <td>410150.174</td>\n",
       "      <td>4132699.801</td>\n",
       "      <td>-24.809081</td>\n",
       "    </tr>\n",
       "  </tbody>\n",
       "</table>\n",
       "</div>"
      ],
      "text/plain": [
       "               X            Y      SL_Pu\n",
       "ID                                      \n",
       "M1-1  410179.490  4132795.830  -7.052360\n",
       "M1-2  410101.480  4132795.520  10.955225\n",
       "M1-3  409982.560  4132693.420  32.581203\n",
       "M1-4  410119.803  4132703.995 -17.549303\n",
       "M1-5  410150.174  4132699.801 -24.809081"
      ]
     },
     "execution_count": 5,
     "metadata": {},
     "output_type": "execute_result"
    }
   ],
   "source": [
    "# Load soil loss dataset from an Excel file\n",
    "soil_loss_df = pd.read_excel('inputs/SL_Pu_Montefrio.xlsx', index_col = 'ID')\n",
    "soil_loss_df.head() # Display the first few rows"
   ]
  },
  {
   "cell_type": "markdown",
   "id": "78e8c39f",
   "metadata": {},
   "source": [
    "### 3. Convert UTM coordinates to gridcell indices (row number, column number)\n",
    "Convert soil loss sample locations from UTM coordinates to raster grid indices."
   ]
  },
  {
   "cell_type": "code",
   "execution_count": 6,
   "id": "09d9f3ab",
   "metadata": {},
   "outputs": [],
   "source": [
    "row_ids, col_ids = [], [] # Initialize the lists to store row and column indices\n",
    "n_points = soil_loss_df.shape[0]  # Number of soil loss points\n",
    "\n",
    "# Convert each coordinate to a corresponding row and column in the DEM grid\n",
    "for i in range(n_points):\n",
    "    col = (soil_loss_df['X'].iloc[i] - raster.transform[2]) / raster.transform[0]\n",
    "    row = (soil_loss_df['Y'].iloc[i] - raster.transform[5]) / raster.transform[4]\n",
    "    row_ids.append(int(np.round(row))) \n",
    "    col_ids.append(int(np.round(col)))"
   ]
  },
  {
   "cell_type": "markdown",
   "id": "fc785999",
   "metadata": {},
   "source": [
    "### 4. Plot the DEM and Sample Points\n",
    "   - The DEM is displayed using a terrain colormap (`cmap='terrain'`).\n",
    "   - The extracted elevation points are overlaid on the DEM using `plt.scatter()`, with colors representing their elevation values.\n",
    "   - A color bar, legend, and title are added for clarity."
   ]
  },
  {
   "cell_type": "code",
   "execution_count": 7,
   "id": "8192d4f0",
   "metadata": {},
   "outputs": [
    {
     "data": {
      "text/plain": [
       "<matplotlib.legend.Legend at 0x26f117c4820>"
      ]
     },
     "execution_count": 7,
     "metadata": {},
     "output_type": "execute_result"
    },
    {
     "data": {
      "image/png": "[encoded data removed]",
      "text/plain": [
       "<Figure size 720x360 with 2 Axes>"
      ]
     },
     "metadata": {
      "needs_background": "light"
     },
     "output_type": "display_data"
    }
   ],
   "source": [
    "# Plot DEM with sampling points\n",
    "plt.figure(figsize=(10, 5))\n",
    "plt.imshow(dem, cmap='terrain', origin='upper')\n",
    "plt.colorbar(label='Elevation (m)')\n",
    "plt.scatter(col_ids, row_ids, edgecolor='k', cmap='coolwarm', label='sampling locations')\n",
    "plt.title(f'Sampling locations across the catchment (n={n_points})')\n",
    "plt.legend()"
   ]
  },
  {
   "cell_type": "markdown",
   "id": "4b1b9309",
   "metadata": {},
   "source": [
    "### 5. Interpolate soil loss estimates\n",
    "Now we perform the spatial interpolation.  We use `scipy.interpolate.griddata` to interpolate the soil loss values from the scattered points to a regular grid covering the entire DEM.  Several interpolation methods are available (nearest neighbor, linear, cubic).\n",
    "\n",
    "We also use `ipywidgets` to add interactivity: a dropdown menu allows the user to select different interpolation methods and see the resulting changes in the interpolated soil loss map."
   ]
  },
  {
   "cell_type": "code",
   "execution_count": 14,
   "id": "cdb65bb8",
   "metadata": {},
   "outputs": [
    {
     "data": {
      "application/vnd.jupyter.widget-view+json": {
       "model_id": "892e0db9ffa642989301b53dfccb5f88",
       "version_major": 2,
       "version_minor": 0
      },
      "text/plain": [
       "interactive(children=(Dropdown(description='inter_method', options=('nearest', 'linear', 'cubic'), value='near…"
      ]
     },
     "execution_count": 14,
     "metadata": {},
     "output_type": "execute_result"
    }
   ],
   "source": [
    "def interactive_spatial_interpolation(inter_method):\n",
    "    \n",
    "    # Perform interpolation with the selected method\n",
    "    grid_x, grid_y = np.meshgrid(np.arange(0, n_rows), np.arange(0, n_cols), indexing='ij')\n",
    "    SL_inter = interpolate.griddata(np.column_stack([row_ids, col_ids]), soil_loss_df['SL_Pu'], (grid_x, grid_y), \n",
    "                                    method=inter_method)\n",
    "    SL_inter[np.isnan(dem)] = np.nan\n",
    "    \n",
    "    # Plot interpolated soil loss map\n",
    "    plt.figure(figsize=(10, 5))  # Set the figure size\n",
    "    plt.imshow(SL_inter)  # Display the interpolated map\n",
    "    plt.colorbar(label='soil loss (tn/ha/year)') # Add a color bar indicating soil loss rates\n",
    "    plt.scatter(col_ids, row_ids, edgecolor='k') # Overlay the sampling pointds\n",
    "    plt.title(f'Interpolated soil loss map (method = {inter_method})')  # Add a title\n",
    "    plt.show()  # Display the plot \n",
    "    \n",
    "    return SL_inter, inter_method\n",
    "\n",
    "# Create an interactive widget for method selection\n",
    "outputs = interactive(interactive_spatial_interpolation, inter_method = ['nearest', 'linear', 'cubic'])\n",
    "outputs"
   ]
  },
  {
   "cell_type": "code",
   "execution_count": 15,
   "id": "c3f8a831",
   "metadata": {},
   "outputs": [],
   "source": [
    "# Get the output (interpolated map and interpolation method) from the interactive widget\n",
    "SL_inter, inter_method = outputs.result"
   ]
  },
  {
   "cell_type": "markdown",
   "id": "72cf92f2",
   "metadata": {},
   "source": [
    "Now that we have the results from the interactive selection, we can save the raster\n",
    "\n",
    "### 7. Save the interpolated map as a raster file\n",
    "\n",
    "Finally, we save the interpolated soil loss map as a GeoTIFF raster file. This allows you to use the map in other GIS software or analyses.  It's crucial to preserve the geospatial information (the transform) so the map is correctly georeferenced."
   ]
  },
  {
   "cell_type": "code",
   "execution_count": 17,
   "id": "63fd5253",
   "metadata": {},
   "outputs": [
    {
     "name": "stdout",
     "output_type": "stream",
     "text": [
      "Interpolated soil loss map saved to: soil_loss_interpolated_map(linear).tif\n"
     ]
    }
   ],
   "source": [
    "# Define the output file path\n",
    "output_file = f'soil_loss_interpolated_map({inter_method}).tif'\n",
    "\n",
    "save_as_raster('outputs/',output_file, SL_inter, raster.meta)\n",
    "\n",
    "print(f\"Interpolated soil loss map saved to: {output_file}\")"
   ]
  },
  {
   "cell_type": "code",
   "execution_count": null,
   "id": "63ed0147",
   "metadata": {},
   "outputs": [],
   "source": []
  }
 ],
 "metadata": {
  "kernelspec": {
   "display_name": "Python 3 (ipykernel)",
   "language": "python",
   "name": "python3"
  },
  "language_info": {
   "codemirror_mode": {
    "name": "ipython",
    "version": 3
   },
   "file_extension": ".py",
   "mimetype": "text/x-python",
   "name": "python",
   "nbconvert_exporter": "python",
   "pygments_lexer": "ipython3",
   "version": "3.8.13"
  }
 },
 "nbformat": 4,
 "nbformat_minor": 5
}
