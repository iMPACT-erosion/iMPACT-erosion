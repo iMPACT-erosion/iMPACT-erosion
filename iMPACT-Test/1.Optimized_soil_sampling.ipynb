{
 "cells": [
  {
   "cell_type": "markdown",
   "id": "8859c7b9",
   "metadata": {},
   "source": [
    "# Optimized soil sampling\n",
    "\n",
    "<left><img src=\"images/soil_sampling_optimization.png\" width=\"500px\" align=\"right\"/>\n",
    "    \n",
    "Soil sampling is crucial for understanding soil properties and estimating factors like erosion, moisture and fertility. However, selecting representative sampling locations can be costly due to the high number of samples and challenging due to varying terrain characteristics. Soil sampling optimization refers to the process of designing and implementing a sampling strategy that efficiently collects soil data to **accurately represent the properties and variability of a given area while minimizing effort, cost, or resources**. The goal is to determine the best locations, number, and distribution of soil samples to capture key characteristics such as fertility, moisture content, pH, nutrient levels, or erosion loss rates across a landscape that vary due to factors like topography, land use, or soil type.\n",
    "\n",
    "This notebook explains and demonstrates a **stratified sampling** approach that optimally allocates sampling, ensuring a balanced representation of terrain variability.\n",
    "\n",
    "### What is Stratified Sampling?\n",
    "Stratified sampling is a statistical method used to improve the representativeness of a sample by dividing a population into distinct subgroups, or *strata*, based on specific characteristics, in this case, terrain features like slope and flow accumulation. Instead of randomly selecting points across the entire study area and allocates sampling points proportionally within each stratum. This ensures both common and rare terrain conditions are adequately represented.\n",
    "\n",
    "### Why Use Stratified Sampling?\n",
    "✅ Captures **dominant terrain conditions** effectively while preserving **landscape variability**.\n",
    "\n",
    "✅ Improves the accuracy of soil property estimates across heterogeneous areas.\n",
    "\n",
    "### Methodology Overview\n",
    "- **Load Terrain Data**: Import Digital Elevation Model (DEM), slope, and flow accumulation raster data.\n",
    "- **Define Strata**: Establish stratification classes using percentile thresholds for slope and flow accumulation.\n",
    "- **Allocate Samples**: Distribute sampling points proportionally to strata frequency, ensuring rare conditions are included.\n",
    "- **Select Points**: Randomly choose sampling locations within each stratum.\n",
    "- **Export & Visualize**: Save sampled coordinates and display them on a map.\n",
    "- **Interactive Tool**: Provide a widget to adjust sampling parameters dynamically."
   ]
  },
  {
   "cell_type": "code",
   "execution_count": 1,
   "id": "5071cb2b",
   "metadata": {},
   "outputs": [],
   "source": [
    "import os\n",
    "import numpy as np\n",
    "import rasterio\n",
    "import pandas as pd\n",
    "import matplotlib.pyplot as plt\n",
    "from ipywidgets import interact, Dropdown\n",
    "from iMPACTools.file_IO import load_raster, open_raster\n",
    "from iMPACTools.optimized_sampling import plot_histograms,stratified_sampling"
   ]
  },
  {
   "cell_type": "markdown",
   "id": "d17c0191",
   "metadata": {},
   "source": [
    "## Choose the case study"
   ]
  },
  {
   "cell_type": "code",
   "execution_count": 2,
   "id": "cb09efb5",
   "metadata": {},
   "outputs": [
    {
     "data": {
      "application/vnd.jupyter.widget-view+json": {
       "model_id": "ee88178b716e4a599fd036b4aa22d460",
       "version_major": 2,
       "version_minor": 0
      },
      "text/plain": [
       "Dropdown(description='Case Study:', options=('Montefrio', 'SantaCruz'), value='Montefrio')"
      ]
     },
     "metadata": {},
     "output_type": "display_data"
    }
   ],
   "source": [
    "# Get list of case studies (folders in the Case_studies directory)\n",
    "case_study = Dropdown(options=os.listdir('../Case_studies'),description='Case Study:')\n",
    "display(case_study)  "
   ]
  },
  {
   "cell_type": "markdown",
   "id": "df95313f",
   "metadata": {},
   "source": [
    "### Load the DEM, slope, and flow accumulation rasters"
   ]
  },
  {
   "cell_type": "code",
   "execution_count": 19,
   "id": "e9217862",
   "metadata": {},
   "outputs": [],
   "source": [
    "# Load raster data (Digital Elevation Model, Slope, Flow Accumulation)\n",
    "dem, metadata = open_raster(f'../Case_studies/{case_study.value}/topo/','dem_catchment.tif')\n",
    "slope, _ = open_raster(f'../Case_studies/{case_study.value}/topo/','slope.tif')\n",
    "flow_acc, _ = open_raster(f'../Case_studies/{case_study.value}/flow/','flow_acc_D8.tif')\n",
    "\n",
    "transform = metadata['transform']\n",
    "crs = metadata['crs']"
   ]
  },
  {
   "cell_type": "markdown",
   "id": "46cd07bf",
   "metadata": {},
   "source": [
    "#### Mask the stream network in the flow accumulation map (optional)"
   ]
  },
  {
   "cell_type": "code",
   "execution_count": 21,
   "id": "a944131a",
   "metadata": {},
   "outputs": [],
   "source": [
    "stream_mask, _ = open_raster(f'../Case_studies/{case_study.value}/flow/','stream_mask_D8.tif')\n",
    "flow_acc[np.isnan(stream_mask)] = np.nan"
   ]
  },
  {
   "cell_type": "markdown",
   "id": "a2a5dae8",
   "metadata": {},
   "source": [
    "#### Remove invalid gridcells"
   ]
  },
  {
   "cell_type": "code",
   "execution_count": 23,
   "id": "cabd330e",
   "metadata": {},
   "outputs": [],
   "source": [
    "# Flatten raster arrays and remove NaN values (invalid pixels/gridcells)\n",
    "valid_mask = ~np.isnan(slope) & ~np.isnan(flow_acc)\n",
    "slope_values = slope[valid_mask]\n",
    "flow_acc_values = flow_acc[valid_mask]"
   ]
  },
  {
   "cell_type": "markdown",
   "id": "bfac047a",
   "metadata": {},
   "source": [
    "### Define stratification classes"
   ]
  },
  {
   "cell_type": "code",
   "execution_count": 24,
   "id": "ef1d864f",
   "metadata": {},
   "outputs": [],
   "source": [
    "num_classes = 3 # Adjust the number of classes if needed\n",
    "\n",
    "# Compute percentile-based classes for stratification\n",
    "slope_classes = np.percentile(slope_values, np.arange(100 / num_classes, 100, 100/num_classes))\n",
    "flow_acc_classes = np.percentile(flow_acc_values, np.arange(100 / num_classes, 100, 100/num_classes))\n",
    "\n",
    "# Assign each gridcell to a stratified class\n",
    "slope_grid_classes = np.digitize(slope_values, slope_classes, right=True)\n",
    "flow_acc_grid_classes = np.digitize(flow_acc_values, flow_acc_classes, right=True)"
   ]
  },
  {
   "cell_type": "markdown",
   "id": "ad4ed6d0",
   "metadata": {},
   "source": [
    "#### Interactive visualization of stratification classes"
   ]
  },
  {
   "cell_type": "code",
   "execution_count": 26,
   "id": "f65bc1a1",
   "metadata": {},
   "outputs": [
    {
     "data": {
      "application/vnd.jupyter.widget-view+json": {
       "model_id": "8fd64d0cab8f40b8ad8350b93bd7a517",
       "version_major": 2,
       "version_minor": 0
      },
      "text/plain": [
       "interactive(children=(Dropdown(description='dataset', options=('Slope', 'Flow Accumulation'), value='Slope'), …"
      ]
     },
     "metadata": {},
     "output_type": "display_data"
    },
    {
     "data": {
      "text/plain": [
       "<function __main__.interactive_plot(dataset)>"
      ]
     },
     "execution_count": 26,
     "metadata": {},
     "output_type": "execute_result"
    }
   ],
   "source": [
    "def interactive_plot(dataset):\n",
    "    \"\"\"Interactive visualization of histogram and spatial distribution of classes.\"\"\"\n",
    "    # Select values and bins based on user selection\n",
    "    if dataset == \"Slope\":\n",
    "        grid, values, classes, grid_classes = slope, slope_values, slope_classes, slope_grid_classes\n",
    "    elif dataset == \"Flow Accumulation\":\n",
    "        grid, values, classes, grid_classes = flow_acc, flow_acc_values, flow_acc_classes, flow_acc_grid_classes\n",
    "        \n",
    "    # Create a figure with 1 row and 2 columns\n",
    "    fig, axes = plt.subplots(1, 2, figsize=(15, 5))\n",
    "\n",
    "    # Plot histograms with stratification bins\n",
    "    axes[0].hist(values, bins=50, edgecolor='black', alpha=0.7)\n",
    "    for class_edge in classes:\n",
    "        axes[0].axvline(class_edge, color='red', linestyle='dashed', linewidth=1)\n",
    "    axes[0].set_title(\"Histogram and Stratification Bins\")\n",
    "    axes[0].set_xlabel(\"Value\")\n",
    "    axes[0].set_ylabel(\"Frequency\")\n",
    "    \n",
    "    # Plot classified raster\n",
    "    grid[~valid_mask] = np.nan\n",
    "    grid[valid_mask] = grid_classes\n",
    "    # Plot imshow on the right\n",
    "    raster_plot = axes[1].imshow(grid, cmap=\"viridis\")  # Use colormap for better visualization\n",
    "    fig.colorbar(raster_plot, ax=axes[1])  # Add colorbar to the image plot\n",
    "    axes[1].set_title(\"Spatial Distribution of classes\")\n",
    "\n",
    "    plt.tight_layout()  # Adjust layout for better spacing\n",
    "    plt.show()\n",
    "    \n",
    "interact(interactive_plot, dataset=[\"Slope\", \"Flow Accumulation\"])"
   ]
  },
  {
   "cell_type": "markdown",
   "id": "6fed0af1",
   "metadata": {},
   "source": [
    "### Define Sampling Strategy\n",
    "Selects sampling points proportionally to the frequency of each category."
   ]
  },
  {
   "cell_type": "code",
   "execution_count": 27,
   "id": "56198498",
   "metadata": {},
   "outputs": [
    {
     "name": "stdout",
     "output_type": "stream",
     "text": [
      "Sampling complete.\n"
     ]
    }
   ],
   "source": [
    "# Create unique strata based on slope and flow accumulation combinations\n",
    "strata_labels = slope_grid_classes * 10 + flow_acc_grid_classes  # Unique class labels. The multiplication by 10, 100, ... \n",
    "# ensures that each combination gets a unique identifier. \n",
    "unique_strata, strata_counts = np.unique(strata_labels, return_counts=True)\n",
    "\n",
    "# Define number of samples proportionally to strata frequency\n",
    "num_samples = 30  # Adjust based on study area needs\n",
    "strata_proportions = strata_counts / strata_counts.sum()\n",
    "samples_per_stratum = (strata_proportions * num_samples).round().astype(int)\n",
    "\n",
    "# Select random samples from each stratum\n",
    "sample_indices = []\n",
    "for strata, count in zip(unique_strata, samples_per_stratum):\n",
    "    indices = np.where(strata_labels == strata)[0]\n",
    "    if len(indices) > 0:\n",
    "        selected = np.random.choice(indices, min(count, len(indices)), replace=False)\n",
    "        sample_indices.extend(selected)\n",
    "\n",
    "# Convert pixel indices back to coordinates\n",
    "row_indices, col_indices = np.where(valid_mask)\n",
    "selected_rows = row_indices[sample_indices]\n",
    "selected_cols = col_indices[sample_indices]\n",
    "\n",
    "# Convert pixel coordinates to geographic coordinates\n",
    "selected_coords = [\n",
    "    (transform * (col, row)) for row, col in zip(selected_rows, selected_cols)]\n",
    "print(\"Sampling complete.\")"
   ]
  },
  {
   "cell_type": "markdown",
   "id": "69810ba7",
   "metadata": {},
   "source": [
    "### Visualize Sampling Points"
   ]
  },
  {
   "cell_type": "code",
   "execution_count": 28,
   "id": "b61b3270",
   "metadata": {},
   "outputs": [
    {
     "data": {
      "image/png": "[encoded data removed]",
      "text/plain": [
       "<Figure size 576x432 with 1 Axes>"
      ]
     },
     "metadata": {
      "needs_background": "light"
     },
     "output_type": "display_data"
    },
    {
     "name": "stdout",
     "output_type": "stream",
     "text": [
      "Sampling complete. Points saved to 'stratified_sampling_points.csv'.\n"
     ]
    }
   ],
   "source": [
    "# Save sampled points as CSV\n",
    "df_samples = pd.DataFrame(selected_coords, columns=[\"Longitude\", \"Latitude\"])\n",
    "df_samples.to_csv(\"stratified_sampling_points.csv\", index=False)\n",
    "\n",
    "# Plot sample locations on DEM background\n",
    "plt.figure(figsize=(8, 6))\n",
    "plt.imshow(dem, cmap=\"terrain\", alpha=0.5)\n",
    "plt.scatter(selected_cols, selected_rows, color=\"red\", s=10, label=\"Sampling Points\")\n",
    "plt.legend()\n",
    "plt.title(\"Stratified Sampling Locations\")\n",
    "plt.show()\n",
    "\n",
    "print(\"Sampling complete. Points saved to 'stratified_sampling_points.csv'.\")"
   ]
  },
  {
   "cell_type": "markdown",
   "id": "6fdcead9",
   "metadata": {},
   "source": [
    "### Let's do it more interactive!"
   ]
  },
  {
   "cell_type": "code",
   "execution_count": 31,
   "id": "f2e5d3b1",
   "metadata": {},
   "outputs": [
    {
     "data": {
      "application/vnd.jupyter.widget-view+json": {
       "model_id": "d0486e12eed1495a90c0be27c98e2ee4",
       "version_major": 2,
       "version_minor": 0
      },
      "text/plain": [
       "interactive(children=(IntSlider(value=3, description='num_classes', max=10, min=2), IntSlider(value=30, descri…"
      ]
     },
     "metadata": {},
     "output_type": "display_data"
    },
    {
     "data": {
      "text/plain": [
       "<function __main__.interactive_sampling(num_classes=3, num_samples=30)>"
      ]
     },
     "execution_count": 31,
     "metadata": {},
     "output_type": "execute_result"
    }
   ],
   "source": [
    "# Define file paths for the raster data (DEM slope and flow accumulation)\n",
    "raster_paths = {\"Slope\": \"inputs/slope_catchment_dem.tif\", \"Flow_Acc\": \"inputs/flow_acc_D8_catchment_dem_masked_stream.tif\"}\n",
    "\n",
    "# Initialize a dictionary to store the loaded raster data and other necessary variables\n",
    "raster_dict = {}\n",
    "transform, crs = None, None\n",
    "\n",
    "# Load raster data (slope and flow accumulation) into the dictionary\n",
    "for key, path in raster_paths.items():\n",
    "    raster, transform, crs = load_raster(path) # Load raster and extract transform, crs\n",
    "    raster_dict[key] = raster # Store the loaded raster in the dictionary under the corresponding key\n",
    "\n",
    "def interactive_sampling(num_classes=3, num_samples=30):\n",
    "    \"\"\"\n",
    "    Function to perform stratified sampling and display the results interactively.\n",
    "    - num_classes: Number of classes for stratification.\n",
    "    - num_samples: Number of sampling points to select.\n",
    "    \"\"\"\n",
    "    \n",
    "    # Perform stratified sampling and get total samples, selected coordinates, and their row/column indices\n",
    "    # This function also plots histograms with stratification bins\n",
    "    total_samples, selected_coords, selected_cols, selected_rows = stratified_sampling(\n",
    "        raster_dict, transform, num_classes, num_samples)\n",
    "    \n",
    "    # Plot the DEM and mark the sampling locations on the map\n",
    "    plt.figure(figsize=(8, 5))\n",
    "    plt.imshow(dem, cmap=\"terrain\", alpha=0.5) # Display the DEM\n",
    "    plt.scatter(selected_cols, selected_rows, color=\"red\", s=10, label=\"Sampling Points\") # Plot sampling points\n",
    "    plt.legend()\n",
    "    plt.title(f\"Stratified Sampling Locations (Classes = {num_classes}, Samples = {total_samples})\")\n",
    "    plt.show()\n",
    "    \n",
    "    # Convert selected coordinates to a DataFrame and save to CSV\n",
    "    df_samples = pd.DataFrame(selected_coords, columns=[\"X\", \"Y\"])\n",
    "    df_samples.to_excel(f'../Case_studies/{case_study.value}/sampling/optimal_sampling_points.xlsx', index=False)\n",
    "\n",
    "# Create interactive widget\n",
    "interact(interactive_sampling, num_classes=(2, 10, 1), num_samples=(10, 100, 10))"
   ]
  },
  {
   "cell_type": "code",
   "execution_count": null,
   "id": "63c43f20",
   "metadata": {},
   "outputs": [],
   "source": []
  }
 ],
 "metadata": {
  "kernelspec": {
   "display_name": "Python 3 (ipykernel)",
   "language": "python",
   "name": "python3"
  },
  "language_info": {
   "codemirror_mode": {
    "name": "ipython",
    "version": 3
   },
   "file_extension": ".py",
   "mimetype": "text/x-python",
   "name": "python",
   "nbconvert_exporter": "python",
   "pygments_lexer": "ipython3",
   "version": "3.8.13"
  }
 },
 "nbformat": 4,
 "nbformat_minor": 5
}
