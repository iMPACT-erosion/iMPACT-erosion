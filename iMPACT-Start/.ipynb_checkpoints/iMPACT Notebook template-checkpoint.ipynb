{
 "cells": [
  {
   "cell_type": "markdown",
   "id": "5e7bd83b",
   "metadata": {},
   "source": [
    "# What is this Notebook about?\n",
    "\n",
    "## 1. \n",
    "Explanation using as less technical language as possible.\n",
    "\n",
    "Use analogies to concepts that the user is likely to be familiar with"
   ]
  }
 ],
 "metadata": {
  "kernelspec": {
   "display_name": "Python 3 (ipykernel)",
   "language": "python",
   "name": "python3"
  },
  "language_info": {
   "codemirror_mode": {
    "name": "ipython",
    "version": 3
   },
   "file_extension": ".py",
   "mimetype": "text/x-python",
   "name": "python",
   "nbconvert_exporter": "python",
   "pygments_lexer": "ipython3",
   "version": "3.10.9"
  }
 },
 "nbformat": 4,
 "nbformat_minor": 5
}
