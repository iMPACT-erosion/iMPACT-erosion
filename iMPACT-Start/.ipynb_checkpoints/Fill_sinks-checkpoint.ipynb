{
 "cells": [
  {
   "cell_type": "markdown",
   "id": "0be081f7-ce22-4649-afc8-78e84043587e",
   "metadata": {},
   "source": [
    "# Fill sinks in a digital elevation model (DEM)\n",
    "Filling sinks in a DEM is an important preprocessing step in hydrological and soil erosion modelling.\n",
    "\n",
    "**But what is a DEM?** Imagine you have a map of a hilly area, like a model of a miniature landscape made out of LEGO pieces. Each lego piece represents a point on the terrain (i.e. a cell of the DEM), and its height corresponds to the elevation at that point. Some blocks are stacked higher, representing hills or mountains, while others are lower, representing valleys or plains. Now, imagine pouring water onto this LEGO terrain. Just like in real life, some spots might act like little bowls, where water collects because they're surrounded by higher LEGO blocks on all sides. These are our \"sinks\" - the places where water would naturally accumulate.\n",
    "\n",
    "<left><img src=\"images/dem_lego.png\" width=\"800px\">\n",
    "\n",
    "**Why filling sinks is important?** Sinks in a DEM represent areas where water can accumulate but not flow out. Filling sinks ensures a continuous and realistic representation of surface water flow, which is essential for hydrological modeling."
   ]
  },
  {
   "cell_type": "markdown",
   "id": "7c49fb0a-1aec-4354-a9e6-f68129d47adb",
   "metadata": {
    "jp-MarkdownHeadingCollapsed": true
   },
   "source": [
    "## 1. Import libraries"
   ]
  },
  {
   "cell_type": "code",
   "execution_count": 1,
   "id": "d925618d",
   "metadata": {},
   "outputs": [
    {
     "ename": "ModuleNotFoundError",
     "evalue": "No module named 'rasterio'",
     "output_type": "error",
     "traceback": [
      "\u001b[1;31m---------------------------------------------------------------------------\u001b[0m",
      "\u001b[1;31mModuleNotFoundError\u001b[0m                       Traceback (most recent call last)",
      "Cell \u001b[1;32mIn[1], line 4\u001b[0m\n\u001b[0;32m      2\u001b[0m \u001b[38;5;28;01mimport\u001b[39;00m \u001b[38;5;21;01mpandas\u001b[39;00m \u001b[38;5;28;01mas\u001b[39;00m \u001b[38;5;21;01mpd\u001b[39;00m            \u001b[38;5;66;03m# Pandas is a library for data manipulation and analysis.\u001b[39;00m\n\u001b[0;32m      3\u001b[0m \u001b[38;5;28;01mimport\u001b[39;00m \u001b[38;5;21;01mplotly\u001b[39;00m\u001b[38;5;21;01m.\u001b[39;00m\u001b[38;5;21;01mexpress\u001b[39;00m \u001b[38;5;28;01mas\u001b[39;00m \u001b[38;5;21;01mpx\u001b[39;00m    \u001b[38;5;66;03m# Plotly Express is a high-level interface for creating interactive visualizations.\u001b[39;00m\n\u001b[1;32m----> 4\u001b[0m \u001b[38;5;28;01mimport\u001b[39;00m \u001b[38;5;21;01mrasterio\u001b[39;00m                \u001b[38;5;66;03m# Rasterio is a library for reading and writing geospatial raster data.\u001b[39;00m\n\u001b[0;32m      5\u001b[0m \u001b[38;5;28;01mfrom\u001b[39;00m \u001b[38;5;21;01mipywidgets\u001b[39;00m \u001b[38;5;28;01mimport\u001b[39;00m widgets, interact \u001b[38;5;66;03m# ipywidgets provides interactive HTML widgets for Jupyter notebooks.\u001b[39;00m\n\u001b[0;32m      6\u001b[0m \u001b[38;5;28;01mimport\u001b[39;00m \u001b[38;5;21;01mglob\u001b[39;00m                    \u001b[38;5;66;03m# The glob module provides a function for Unix-style pathname pattern expansion.\u001b[39;00m\n",
      "\u001b[1;31mModuleNotFoundError\u001b[0m: No module named 'rasterio'"
     ]
    }
   ],
   "source": [
    "import numpy as np             # NumPy is a library for numerical computing in Python.\n",
    "import pandas as pd            # Pandas is a library for data manipulation and analysis.\n",
    "import plotly.express as px    # Plotly Express is a high-level interface for creating interactive visualizations.\n",
    "import rasterio                # Rasterio is a library for reading and writing geospatial raster data.\n",
    "from ipywidgets import widgets, interact # ipywidgets provides interactive HTML widgets for Jupyter notebooks.\n",
    "import glob                    # The glob module provides a function for Unix-style pathname pattern expansion.\n",
    "import numba                   # Numba is a library for accelerating numerical computations."
   ]
  },
  {
   "cell_type": "markdown",
   "id": "720b5252-3a9c-4c42-ac6d-3d09be151a25",
   "metadata": {},
   "source": [
    "## 2. Define the function to fill sinks in a DEM\n",
    "First of all we define two **helper functions** for processing digital elevation models (DEM)."
   ]
  },
  {
   "cell_type": "markdown",
   "id": "1c0cfa0c-654b-49e0-83ca-fac5f3ea99a7",
   "metadata": {
    "jp-MarkdownHeadingCollapsed": true
   },
   "source": [
    "### Get the highest elevation among the neighbours\n",
    "This part of the code is like a little program that helps us find out which point on the map is the tallest among its nearby points. Think of it as looking at a hill and figuring out which spot on the hill is the highest compared to the spots around it. So, for every point on the map, we look at its immediate surroundings and find the highest point."
   ]
  },
  {
   "cell_type": "code",
   "execution_count": 3,
   "id": "1888ff63",
   "metadata": {},
   "outputs": [],
   "source": [
    "# First of all we define two helper functions for processing digital elevation models (DEM).\n",
    "# Helper function 1: get the highest elevation among the neighbours\n",
    "@numba.jit\n",
    "def elevation_highest_neighbour(x, y, dem):\n",
    "    \"\"\"\n",
    "    Helper function to calculate the maximum elevation among neighbouring cells.\n",
    "\n",
    "    Args:\n",
    "    - x, y: coordinates of the cell in the DEM\n",
    "    - dem: the DEM itself represented as a 2D NumPy array\n",
    "\n",
    "    Returns:\n",
    "    - max_elevation: maximum elevation among neighbours\n",
    "    \"\"\"\n",
    "    \n",
    "    rows, cols = dem.shape  # Retrieve the dimensions of the DEM (rows, cols)\n",
    "    \n",
    "    # Define the neighbourhood offsets (8-connected)\n",
    "    neighbours = [(-1, -1), (-1, 0), (-1, 1),\n",
    "                  (0, -1),           (0, 1),\n",
    "                  (1, -1),  (1, 0),  (1, 1)]\n",
    "    \n",
    "    max_elevation = dem[x, y]\n",
    "    for dx, dy in neighbours:\n",
    "        nx, ny = x + dx, y + dy # It iterates over each neighbor\n",
    "        # Check if neighbour is within bounds\n",
    "        if 0 <= nx < rows and 0 <= ny < cols:\n",
    "            max_elevation = max(max_elevation, dem[nx, ny])\n",
    "    return max_elevation #Finally, it returns the maximum elevation among the neighboring cells."
   ]
  },
  {
   "cell_type": "markdown",
   "id": "ac59c5e1",
   "metadata": {
    "jp-MarkdownHeadingCollapsed": true
   },
   "source": [
    "### Check if a cell is a sink \n",
    "Imagine you pour water onto the map. Some points might be like little bowls, where water collects because they're surrounded by higher ground on all sides. These are called sinks. This part of the code helps us identify these sink points. It checks if a point on the map is surrounded by higher points on all sides, just like how water would collect in a little depression or hole in the ground."
   ]
  },
  {
   "cell_type": "code",
   "execution_count": 4,
   "id": "e093f0ca",
   "metadata": {},
   "outputs": [],
   "source": [
    "# Helper function 2: check if a cell is a sink\n",
    "@numba.jit\n",
    "def is_sink(x, y, dem):\n",
    "    \"\"\"\n",
    "    Helper function to check if a cell is a sink.\n",
    "\n",
    "    Args:\n",
    "    - x, y: Coordinates of the cell in the DEM\n",
    "    - dem: the DEM itself represented as a 2D NumPy array\n",
    "\n",
    "    Returns:\n",
    "    - True if the cell is a sink, False otherwise\n",
    "    \"\"\"\n",
    "    rows, cols = dem.shape  # Retrieve the dimensions of the DEM (rows, cols)\n",
    "    \n",
    "    # Define the neighbourhood offsets (8-connected)\n",
    "    neighbours = [(-1, -1), (-1, 0), (-1, 1),\n",
    "                  (0, -1),           (0, 1),\n",
    "                  (1, -1),  (1, 0),  (1, 1)]\n",
    "    \n",
    "    for dx, dy in neighbours:\n",
    "        nx, ny = x + dx, y + dy # It iterates over each neighbor\n",
    "        # Check if neighbour is within bounds and if its elevation is <= the elevation of the current cell\n",
    "        if 0 <= nx < rows and 0 <= ny < cols and dem[nx, ny] <= dem[x, y]:\n",
    "            return False # the function returns False, indicating that the current cell is not a sink\n",
    "    return True #If none of the neighbors satisfy the conditions, the current cell is a sink"
   ]
  },
  {
   "cell_type": "markdown",
   "id": "1f9a355a",
   "metadata": {
    "jp-MarkdownHeadingCollapsed": true
   },
   "source": [
    "### Function to fill the sinks of the DEM\n",
    "Finally we fill the sinks. First, it finds the lowest point on the map. Then, it goes through each point on the map and checks if it's a sink (where water would collect). If it finds a sink, it raises that point to the same height as the surrounding highest points. It keeps doing this until there are no more sinks left on the map. Essentially, it's like filling in low spots on the map to make sure water flows smoothly without getting stuck."
   ]
  },
  {
   "cell_type": "code",
   "execution_count": null,
   "id": "ad273183",
   "metadata": {},
   "outputs": [],
   "source": [
    "# Main function that fill the sinks of the DEM\n",
    "@numba.jit\n",
    "def fill_sinks(dem):\n",
    "    \"\"\"\n",
    "    Function to fill sinks in a Digital Elevation Model (DEM).\n",
    "    \n",
    "    Args:\n",
    "    - dem: 2D numpy array representing the DEM\n",
    "    \n",
    "    Returns:\n",
    "    - Filled DEM with sinks removed\n",
    "    \"\"\"\n",
    "    rows, cols = dem.shape  # Get the dimensions of the DEM (rows, cols)\n",
    "\n",
    "    while True:  # Repeat until no more sinks are found\n",
    "        found_sinks = False\n",
    "        min_elevation = np.inf\n",
    "        \n",
    "        # Calculate the minimum elevation\n",
    "        for i in range(rows):\n",
    "            for j in range(cols):\n",
    "                if not np.isnan(dem[i, j]):  # Skip NaN values\n",
    "                    min_elevation = min(min_elevation, dem[i, j])\n",
    "\n",
    "        # Loop through each cell in the DEM\n",
    "        for i in range(rows):\n",
    "            for j in range(cols):\n",
    "                # Check if the cell has elevation greater than the minimum in the DEM\n",
    "                if not np.isnan(dem[i, j]) and dem[i, j] > min_elevation:\n",
    "                    # Check if the cell is a sink\n",
    "                    if is_sink(i, j, dem):\n",
    "                        # Get the maximum elevation among neighbours\n",
    "                        high_neighbour_elevation = elevation_highest_neighbour(i, j, dem)\n",
    "                        # Replace the sink elevation with the maximum neighbour elevation\n",
    "                        if dem[i, j] != high_neighbour_elevation:\n",
    "                            dem[i, j] = high_neighbour_elevation\n",
    "                            found_sinks = True  # Set the flag to True indicating that a sink has been filled\n",
    "        # Break the loop if no more sinks are found\n",
    "        if not found_sinks:\n",
    "            break\n",
    "    return dem"
   ]
  },
  {
   "cell_type": "markdown",
   "id": "67e995d1",
   "metadata": {},
   "source": [
    "## 3. Load the DEM\n",
    "\n",
    "<left><img src=\"images/file_to_dem.png\" width=\"300px\">\n",
    "\n",
    "To load the DEM, we use a tool called `rasterio`. We're basically using `rasterio` to open up our digital map of the terrain  (also known as raster datasets) to extract information from them, such as the height of each cell, and perform various raster operations, finding out how steep a hill is or filling sinks. It also extract the `metadata` information such as the raster's spatial reference system and data type. You can use this metadata for various purposes, such as georeferencing and understanding the properties of the raster map."
   ]
  },
  {
   "cell_type": "code",
   "execution_count": null,
   "id": "ba6d918f",
   "metadata": {},
   "outputs": [],
   "source": [
    "files = [f for f in glob.glob('inputs/*.*')]\n",
    "input_file = widgets.Select(\n",
    "    options=files,\n",
    "    description='select raster:',\n",
    "    disabled=False\n",
    ")\n",
    "display(input_file)"
   ]
  },
  {
   "cell_type": "code",
   "execution_count": null,
   "id": "273a05f7",
   "metadata": {},
   "outputs": [],
   "source": [
    "# Open the raster map file\n",
    "with rasterio.open(input_file.value) as src:\n",
    "    # Read the raster data as a numpy array\n",
    "    dem = src.read(1)  # Read the first band (index 0)\n",
    "\n",
    "    # Get metadata of the raster map\n",
    "    dem_metadata = src.meta"
   ]
  },
  {
   "cell_type": "markdown",
   "id": "e0211f72",
   "metadata": {},
   "source": [
    "### Plot the DEM"
   ]
  },
  {
   "cell_type": "code",
   "execution_count": null,
   "id": "97d7aada",
   "metadata": {},
   "outputs": [],
   "source": [
    "fig = px.imshow(dem,color_continuous_scale='rdbu')\n",
    "fig.show()"
   ]
  },
  {
   "cell_type": "markdown",
   "id": "9bb6f188",
   "metadata": {},
   "source": [
    "## 4. Run the function to fill the sinks of the loaded DEM\n",
    "In this step we finally perform the sink filling on the digital elevation model (DEM) and then we visualize the filled areas compared to the original DEM."
   ]
  },
  {
   "cell_type": "code",
   "execution_count": null,
   "id": "d31a4834",
   "metadata": {},
   "outputs": [],
   "source": [
    "# Fill the sinks\n",
    "dem_fill = fill_sinks(dem.copy())\n",
    "# Plot only the filled areas (difference between the filled DEM and the original DEM)\n",
    "fig = px.imshow(dem_fill-dem,color_continuous_scale='rdbu')\n",
    "fig.show()"
   ]
  },
  {
   "cell_type": "markdown",
   "id": "5ee99edb",
   "metadata": {},
   "source": [
    "## Add noise to the flat areas of the DEM\n",
    "Sometimes, there are areas on the map that are flat, in particular in the filled sinks. When it comes to water flowing across this map, these flat areas can be a bit tricky.\n",
    "\n",
    "**Why are flat areas tricky?** Well, imagine pouring water onto these flat areas. Since all the points have the same height, the water doesn't know which way to go. It's like standing in the middle of a perfectly flat field and trying to decide which direction is downhill – there's no clear answer! \n",
    "\n",
    "<left><img src=\"images/water_flat.png\" width=\"400px\">\n",
    "\n",
    "This ambiguity arises because the conventional methods for computing flow direction rely on the elevation difference between neighboring cells. In flat areas, there might not be a clear direction of flow, leading to incorrect flow direction assignment.\n",
    "\n",
    "**How can we solve this problem?** we add a little bit of randomness to these flat areas. We're essentially making tiny bumps and dips in the flat spots, so the water has some guidance on which way to flow. This process helps us create a map where water flows smoothly across the landscape.\n",
    "\n",
    "The function called `add_noise_to_flat_areas` does exactly that. It looks for these flat spots where all the points have the same height. Then, it adds a bit of random noise to each point in these spots. This noise makes the flat areas a little uneven, breaking the symmetry and helping water flow in a more natural way. \n",
    "\n",
    "In hydrological modeling, it's important to maintain hydrological connectivity, ensuring that water can flow continuously across the landscape. Adding noise to flat areas helps to break ties and establish a consistent flow path, improving the connectivity of the hydrological network."
   ]
  },
  {
   "cell_type": "code",
   "execution_count": null,
   "id": "0d037448",
   "metadata": {},
   "outputs": [],
   "source": [
    "def add_noise_to_flat_areas(dem, epsilon=0.001):\n",
    "    \"\"\"\n",
    "    Adds noise to flat areas in a digital elevation model (DEM).\n",
    "\n",
    "    Args:\n",
    "        dem (numpy.ndarray): A 2D array representing the elevation data.\n",
    "        epsilon (float): The magnitude of the noise to be added.\n",
    "\n",
    "    Returns:\n",
    "        dem (numpy.ndarray): The DEM with noise added to duplicate values.\n",
    "    \"\"\"\n",
    "\n",
    "    # Find unique values and their counts in the DEM\n",
    "    unique_values, counts = np.unique(dem, return_counts=True)\n",
    "    # Identify duplicate values\n",
    "    duplicates = unique_values[counts > 1]\n",
    "\n",
    "    # Iterate over duplicate values\n",
    "    for value in duplicates:\n",
    "        # Find indices where the duplicate value occurs\n",
    "        indices = np.where(dem == value)\n",
    "        # Add noise to duplicate values\n",
    "        # Note that the noise is negative to avoid creating new sinks\n",
    "        noise = np.random.uniform(-epsilon, 0, size=len(indices[0]))\n",
    "        dem[indices] += noise\n",
    "\n",
    "    return dem"
   ]
  },
  {
   "cell_type": "markdown",
   "id": "2423c25f",
   "metadata": {},
   "source": [
    "### Let's add the noise to the flat areas in an interactive way\n",
    "Now, let's use the function to add a little bit of randomness to those flat areas.\n",
    "\n",
    "We have something called \"epsilon\" (or epsilon), which is just a tiny positive number (like 0.0001). It's so small you can barely see it! This number decides how much randomness we add to the flat areas. We want just enough randomness to make our map look more realistic, but not too much that it changes everything.\n",
    "\n",
    "So, by running this function with epsilon, we're basically giving our map a little shake-up to make it less flat."
   ]
  },
  {
   "cell_type": "code",
   "execution_count": null,
   "id": "c883248c",
   "metadata": {},
   "outputs": [],
   "source": [
    "# Set the value of epsilon, which represents the small amount of noise to be added\n",
    "epsilon = 0.001\n",
    "# Add noise to duplicates in the filled DEM using the add_noise_to_duplicates function\n",
    "dem_fill = add_noise_to_flat_areas(dem_fill, epsilon)\n",
    "# Fill the sinks one more time\n",
    "dem_fill = fill_sinks(dem_fill.copy())"
   ]
  },
  {
   "cell_type": "code",
   "execution_count": null,
   "id": "3c5811b1",
   "metadata": {},
   "outputs": [],
   "source": [
    "\n",
    "interact(add_noise_to_flat_areas,epsilon= ([0.0001,0.001,0.01,0.1]))"
   ]
  },
  {
   "cell_type": "markdown",
   "id": "d6e7f0c6",
   "metadata": {},
   "source": [
    "The function iterates over the cells within the DEM to double check for potential sinks after adding the noise to the flat areas"
   ]
  },
  {
   "cell_type": "code",
   "execution_count": null,
   "id": "d80a0bb2",
   "metadata": {},
   "outputs": [],
   "source": [
    "def check_sinks(dem):\n",
    "    rows, cols = dem.shape  # Get the dimensions of the DEM (rows, cols)\n",
    "    found_sinks = False\n",
    "    for i in range(rows):\n",
    "        for j in range(cols):\n",
    "            # Check if the cell has elevation greater than the minimum in the DEM\n",
    "            if dem[i, j] > np.nanmin(dem):\n",
    "                # Check if the cell is a sink\n",
    "                if is_sink(i, j, dem):\n",
    "                    # Get the maximum elevation among neighbours\n",
    "                    high_neighbour_elevation = elevation_highest_neighbour(i, j, dem)\n",
    "                    # Replace the sink elevation with the maximum neighbour elevation\n",
    "                    if dem[i, j] != high_neighbour_elevation:\n",
    "                        found_sinks = True # Set the flag to True indicating that a sink has been filled\n",
    "                        print(\"i = %d and j = %d\" %(i,j))\n",
    "check_sinks(dem_fill)"
   ]
  },
  {
   "cell_type": "markdown",
   "id": "b79cad93",
   "metadata": {},
   "source": [
    "### Save the filled DEM as a raster file\n",
    "You've just finished filling the sinks and now you want to keep a record of your work. For this purpose we also used the tool `rasterio`.\n",
    "\n",
    "Just like how a photograph preserves the image you see, saving the filled DEM as a raster file preserves all the elevation data and changes you've made to the map. So, for the next modelling steps (or to share it with others), you can load the raster file (with `rasterio` as well), explore and modifiy the information over and over. "
   ]
  },
  {
   "cell_type": "code",
   "execution_count": null,
   "id": "2f4cd7fd",
   "metadata": {},
   "outputs": [],
   "source": [
    "if 'syn' in input_file.value:\n",
    "    # Specify the output file path\n",
    "    output_file = 'inputs/dem_syn_fill.tif'    \n",
    "else:\n",
    "    # Specify the output file path\n",
    "    output_file = 'inputs/dem_fill.tif'\n",
    "\n",
    "# Write the modified raster data to a new file with the same metadata\n",
    "with rasterio.open(output_file, 'w', **dem_metadata) as dst:\n",
    "    # Write the modified raster data to the new file\n",
    "    dst.write(dem_fill, 1)  # Assuming raster_data is the modified array"
   ]
  }
 ],
 "metadata": {
  "kernelspec": {
   "display_name": "Python 3 (ipykernel)",
   "language": "python",
   "name": "python3"
  },
  "language_info": {
   "codemirror_mode": {
    "name": "ipython",
    "version": 3
   },
   "file_extension": ".py",
   "mimetype": "text/x-python",
   "name": "python",
   "nbconvert_exporter": "python",
   "pygments_lexer": "ipython3",
   "version": "3.10.9"
  },
  "varInspector": {
   "cols": {
    "lenName": 16,
    "lenType": 16,
    "lenVar": 40
   },
   "kernels_config": {
    "python": {
     "delete_cmd_postfix": "",
     "delete_cmd_prefix": "del ",
     "library": "var_list.py",
     "varRefreshCmd": "print(var_dic_list())"
    },
    "r": {
     "delete_cmd_postfix": ") ",
     "delete_cmd_prefix": "rm(",
     "library": "var_list.r",
     "varRefreshCmd": "cat(var_dic_list()) "
    }
   },
   "types_to_exclude": [
    "module",
    "function",
    "builtin_function_or_method",
    "instance",
    "_Feature"
   ],
   "window_display": false
  }
 },
 "nbformat": 4,
 "nbformat_minor": 5
}
