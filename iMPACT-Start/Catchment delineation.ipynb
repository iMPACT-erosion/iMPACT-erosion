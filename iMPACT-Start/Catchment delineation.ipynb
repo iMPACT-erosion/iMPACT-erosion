{
 "cells": [
  {
   "cell_type": "markdown",
   "id": "c6bc7d8a",
   "metadata": {},
   "source": [
    "# Catchment delineation\n",
    "This Notebook defines a function catchment_delineation for delineating the catchment area based on flow direction and outlet coordinates. It also provides an interactive plot for visualizing the catchment delineation results."
   ]
  },
  {
   "cell_type": "code",
   "execution_count": 1,
   "id": "813b1050",
   "metadata": {},
   "outputs": [],
   "source": [
    "import numpy as np # Library for numerical operations\n",
    "import plotly.express as px # Library for plotting\n",
    "import matplotlib.pyplot as plt  # Library for plotting\n",
    "from matplotlib import cm  # Colormap module for color representations\n",
    "import rasterio # Library for reading and writing raster data\n",
    "from ipywidgets import widgets, interact # Interactive widgets for Jupyter notebooks\n",
    "import os"
   ]
  },
  {
   "cell_type": "markdown",
   "id": "dda4903b",
   "metadata": {},
   "source": [
    "## Function for catchment delineation using flow direction\n",
    "The function below delineates the catchment area by recursively tracing upstream from the outlet cell based on flow direction until it reaches the boundary of the catchment. It effectively identifies all cells contributing to the flow of water towards the outlet cell, thus delineating the catchment area."
   ]
  },
  {
   "cell_type": "code",
   "execution_count": 2,
   "id": "3b7f5ec2",
   "metadata": {},
   "outputs": [],
   "source": [
    "def catchment_delineation(flow_direction, outlet_row, outlet_col):\n",
    "    \"\"\"\n",
    "    Delineates the catchment area based on flow direction and the location of the catchment outlet.\n",
    "\n",
    "    Args:\n",
    "        flow_direction (numpy.ndarray): 2D array representing flow direction values.\n",
    "        outlet_row (int): Row index of the catchment outlet cell.\n",
    "        outlet_col (int): Column index of the catchment outlet cell.\n",
    "\n",
    "    Returns:\n",
    "        catchment_mask (numpy.ndarray): Binary mask indicating the delineated catchment area.\n",
    "    \"\"\"\n",
    "    \n",
    "    ######################\n",
    "    ### Initialization ###\n",
    "    ######################\n",
    "    # Initialize a mask (boolean array) to track visited cells during reverse tracing\n",
    "    visited = np.zeros_like(flow_direction, dtype=bool)\n",
    "\n",
    "    # Initialize the catchment mask (boolean array) to represent the catchment area\n",
    "    catchment_mask = np.zeros_like(flow_direction, dtype=bool)\n",
    "\n",
    "    #######################\n",
    "    ### Reverse tracing ###\n",
    "    #######################   \n",
    "    # Start reverse tracing from the outlet cell and explores neighboring cells recursively\n",
    "    \n",
    "    # Create the variable stack to keep track of the cells that need to be explored during the reverse tracing process.\n",
    "    stack = [(outlet_row, outlet_col)] # Add the first catchment cell (outlet) to the stack\n",
    "    \n",
    "    while stack: # It continues this process while there are cells (in stack) to explore.\n",
    "        \n",
    "        current_row, current_col = stack.pop() # return and remove the last item from the stack\n",
    "\n",
    "        # Check if the current cell has been visited\n",
    "        if visited[current_row, current_col]:\n",
    "            continue\n",
    "\n",
    "        # Mark the current cell as visited\n",
    "        visited[current_row, current_col] = True\n",
    "\n",
    "        # Mark the current cell as part of the catchment\n",
    "        catchment_mask[current_row, current_col] = True\n",
    "        \n",
    "        ##########################\n",
    "        ### Neighbor Selection ###\n",
    "        ##########################\n",
    "\n",
    "        # Define a 3x3 array to represent the directions of the valid neighboring cells (connected to the current cell)\n",
    "        neighbours_dir = np.array([(2,    4,  8),\n",
    "                                   (1,    0, 16),\n",
    "                                   (128, 64, 32)])\n",
    "\n",
    "        # Iterate over neighboring cells in a 3x3 grid centered around the current cell\n",
    "        \n",
    "        neighboring_cells = [] # Initialize the variable to add valid neighboring cells\n",
    "        \n",
    "        for dr in [-1, 0, 1]: # change in the row index (-1: move up, 0: stay, 1: move down)\n",
    "            for dc in [-1, 0, 1]: # change in the column index (-1: move left, 0: stay, 1: move right)\n",
    "                \n",
    "                if dr == 0 and dc == 0: # exclude the current cell itself\n",
    "                    continue\n",
    "                    \n",
    "                new_row, new_col = current_row + dr, current_col + dc\n",
    "                \n",
    "                # Determine valid neighboring cells: check if each neighboring cell satisfies certain conditions\n",
    "                if (0 <= new_row < flow_direction.shape[0] and # It's within the bounds of the array.\n",
    "                    0 <= new_col < flow_direction.shape[1] and # It's within the bounds of the array.\n",
    "                    not visited[new_row, new_col] and # It hasn't been visited yet.\n",
    "                    flow_direction[new_row, new_col] == neighbours_dir[1+dr, 1+dc]):# Its flow direction matches neighbours_dir.         \n",
    "                    \n",
    "                    neighboring_cells.append((new_row, new_col)) # Valid neighboring cells are added\n",
    "        \n",
    "        #############################\n",
    "        ### Recursive Exploration ###\n",
    "        #############################\n",
    "        # Add all the valid neighboring cells to the stack for further exploration\n",
    "        stack.extend(neighboring_cells)\n",
    "        \n",
    "    # Return the catchment_mask, a boolean array indicating the delineated catchment are\n",
    "    return catchment_mask"
   ]
  },
  {
   "cell_type": "code",
   "execution_count": 3,
   "id": "9c8525f2",
   "metadata": {},
   "outputs": [
    {
     "data": {
      "application/vnd.jupyter.widget-view+json": {
       "model_id": "447010a7418a4e718808a07e8ee34138",
       "version_major": 2,
       "version_minor": 0
      },
      "text/plain": [
       "Select(description='flow direction files:', options=('fd_D8.asc', 'fd_D8_syn.asc'), value='fd_D8.asc')"
      ]
     },
     "metadata": {},
     "output_type": "display_data"
    }
   ],
   "source": [
    "# List available flow direction files (raster maps files in ascii format)\n",
    "files = [f for f in os.listdir('.') if os.path.isfile(f)]\n",
    "fd_files = []\n",
    "for s in files:\n",
    "    if 'asc' in s and 'fd' in s and 'D8' in s:\n",
    "        fd_files.append(s)\n",
    "input_file_fd = widgets.Select(\n",
    "    options=fd_files,\n",
    "    description='flow direction files:',\n",
    "    disabled=False\n",
    ")\n",
    "display(input_file_fd)"
   ]
  },
  {
   "cell_type": "code",
   "execution_count": 4,
   "id": "2eefacc4",
   "metadata": {},
   "outputs": [],
   "source": [
    "# Open the selected raster map file\n",
    "with rasterio.open(input_file_fd.value) as src:\n",
    "    # Read the raster data as a numpy array\n",
    "    fd = src.read(1)  # Read the first band (index 0)\n",
    "\n",
    "    # Get metadata of the raster map\n",
    "    fd_metadata = src.meta"
   ]
  },
  {
   "cell_type": "code",
   "execution_count": 5,
   "id": "2f5233df",
   "metadata": {},
   "outputs": [
    {
     "data": {
      "application/vnd.jupyter.widget-view+json": {
       "model_id": "cd92bd8d276f4402b0be6cd74b4c40a5",
       "version_major": 2,
       "version_minor": 0
      },
      "text/plain": [
       "Select(description='flow accumulation files:', options=('fa_D8.asc', 'fa_D8_syn.asc'), value='fa_D8.asc')"
      ]
     },
     "metadata": {},
     "output_type": "display_data"
    }
   ],
   "source": [
    "# List available flow accumulation files (raster maps files in ascii format)\n",
    "files = [f for f in os.listdir('.') if os.path.isfile(f)]\n",
    "fa_files = []\n",
    "for s in files:\n",
    "    if 'asc' in s and 'fa' in s and 'D8' in s:\n",
    "        fa_files.append(s)\n",
    "input_file_fa = widgets.Select(\n",
    "    options=fa_files,\n",
    "    description='flow accumulation files:',\n",
    "    disabled=False\n",
    ")\n",
    "display(input_file_fa)"
   ]
  },
  {
   "cell_type": "code",
   "execution_count": 6,
   "id": "c208d7bd",
   "metadata": {},
   "outputs": [],
   "source": [
    "# Open the selected raster map file\n",
    "with rasterio.open(input_file_fa.value) as src:\n",
    "    # Read the raster data as a numpy array\n",
    "    fa = src.read(1)  # Read the first band (index 0)\n",
    "\n",
    "    # Get metadata of the raster map\n",
    "    fa_metadata = src.meta"
   ]
  },
  {
   "cell_type": "code",
   "execution_count": 7,
   "id": "8f18ad01",
   "metadata": {},
   "outputs": [
    {
     "data": {
      "application/vnd.jupyter.widget-view+json": {
       "model_id": "212da0a160eb47a19b0598f284d639c8",
       "version_major": 2,
       "version_minor": 0
      },
      "text/plain": [
       "Select(description='dem files:', options=('dem.asc', 'dem_fill.asc', 'dem_syn.asc', 'dem_syn_fill.asc', 'dem_s…"
      ]
     },
     "metadata": {},
     "output_type": "display_data"
    }
   ],
   "source": [
    "# List available dem files (raster maps files in ascii format)\n",
    "files = [f for f in os.listdir('.') if os.path.isfile(f)]\n",
    "dem_files = []\n",
    "for s in files:\n",
    "    if 'asc' in s and 'dem' in s:\n",
    "        dem_files.append(s)\n",
    "input_file_dem = widgets.Select(\n",
    "    options=dem_files,\n",
    "    description='dem files:',\n",
    "    disabled=False\n",
    ")\n",
    "display(input_file_dem)"
   ]
  },
  {
   "cell_type": "code",
   "execution_count": 8,
   "id": "674c4d9a",
   "metadata": {},
   "outputs": [],
   "source": [
    "# Open the selected raster map file\n",
    "with rasterio.open(input_file_dem.value) as src:\n",
    "    # Read the raster data as a numpy array\n",
    "    dem = src.read(1)  # Read the first band (index 0)\n",
    "\n",
    "    # Get metadata of the raster map\n",
    "    dem_metadata = src.meta"
   ]
  },
  {
   "cell_type": "markdown",
   "id": "273fc8b2",
   "metadata": {},
   "source": [
    "## Interactive plotting function for catchment delineation"
   ]
  },
  {
   "cell_type": "code",
   "execution_count": 9,
   "id": "db308917",
   "metadata": {},
   "outputs": [],
   "source": [
    "def plot3D_surf(z,elev,azim):\n",
    "\n",
    "    # Create meshgrid for x and y coordinates\n",
    "    x, y = np.meshgrid(np.arange(z.shape[1]), np.arange(z.shape[0]))\n",
    "    \n",
    "    # Create figure\n",
    "    fig = plt.figure(figsize=(10, 5))\n",
    "    fig.suptitle('DEM')\n",
    "    \n",
    "    # First subplot: 2D plot\n",
    "    ax = fig.add_subplot(1, 2, 1)\n",
    "    mesh = ax.imshow(np.flip(z, 0), cmap=cm.coolwarm)\n",
    "    ax.set_xlabel('X axis')\n",
    "    ax.set_ylabel('Y axis')\n",
    "    fig.colorbar(mesh)\n",
    "    \n",
    "    # Second subplot: 3D plot\n",
    "    ax = fig.add_subplot(1, 2, 2, projection='3d')\n",
    "    color = cm.coolwarm((z - np.nanmin(z)) / (np.nanmax(z) - np.nanmin(z)))\n",
    "    surf = ax.plot_surface(x, y, z,\n",
    "                           rstride=1,\n",
    "                           cstride=1,\n",
    "                           facecolors=color,\n",
    "                           linewidth=0.,\n",
    "                           antialiased=True)\n",
    "    \n",
    "    # Set view angle for 3D plot\n",
    "    ax.view_init(elev=elev, azim=azim)\n",
    "    ax.set_xlabel('X axis')\n",
    "    ax.set_ylabel('Y axis')\n",
    "    ax.set_zlabel('Elevation')\n",
    "    #set_axes_equal(ax)"
   ]
  },
  {
   "cell_type": "code",
   "execution_count": 10,
   "id": "1672937a",
   "metadata": {},
   "outputs": [
    {
     "data": {
      "application/vnd.jupyter.widget-view+json": {
       "model_id": "95b0cb0ff4ca4f83be5086da5db27d51",
       "version_major": 2,
       "version_minor": 0
      },
      "text/plain": [
       "interactive(children=(IntSlider(value=0, description='outlet_row', max=49), IntSlider(value=0, description='ou…"
      ]
     },
     "metadata": {},
     "output_type": "display_data"
    },
    {
     "data": {
      "text/plain": [
       "<function __main__.iplot_catchment_delineation(outlet_row=0, outlet_col=0)>"
      ]
     },
     "execution_count": 10,
     "metadata": {},
     "output_type": "execute_result"
    }
   ],
   "source": [
    "nl,nc = fd.shape\n",
    "\n",
    "def iplot_catchment_delineation(outlet_row = 0, outlet_col=0):\n",
    "    \n",
    "    # Run the delineation function to obtain the catchment mask\n",
    "    catchment_mask = catchment_delineation(fd,outlet_row, outlet_col)\n",
    "    \n",
    "    a = catchment_mask*1\n",
    "    from scipy.ndimage import binary_erosion\n",
    "    k = np.zeros((3,3),dtype=int); k[1] = 1; k[:,1] = 1\n",
    "    out = a-binary_erosion(a,k)\n",
    "    \n",
    "    # Display the catchment mask\n",
    "    fig, (ax1, ax2) = plt.subplots(figsize = (12,5), ncols=2)\n",
    "    ax1.imshow(catchment_mask*fa)\n",
    "    ax2.imshow(out)\n",
    "    plt.show()\n",
    "    \n",
    "    elev = 30\n",
    "    azim = 220\n",
    "    plot3D_surf(catchment_mask*dem,elev,azim)\n",
    "\n",
    "# Create interactive widgets (sliders) for selecting the outlet coordinates\n",
    "interact(iplot_catchment_delineation,outlet_row= (0,nl-1,1),outlet_col = (0,nc-1,1))"
   ]
  },
  {
   "cell_type": "code",
   "execution_count": null,
   "id": "1cebb430",
   "metadata": {},
   "outputs": [],
   "source": []
  }
 ],
 "metadata": {
  "kernelspec": {
   "display_name": "Python 3 (ipykernel)",
   "language": "python",
   "name": "python3"
  },
  "language_info": {
   "codemirror_mode": {
    "name": "ipython",
    "version": 3
   },
   "file_extension": ".py",
   "mimetype": "text/x-python",
   "name": "python",
   "nbconvert_exporter": "python",
   "pygments_lexer": "ipython3",
   "version": "3.8.13"
  }
 },
 "nbformat": 4,
 "nbformat_minor": 5
}
